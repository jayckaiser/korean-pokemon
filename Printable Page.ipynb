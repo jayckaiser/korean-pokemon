{
 "cells": [
  {
   "cell_type": "code",
   "execution_count": 1,
   "metadata": {},
   "outputs": [
    {
     "name": "stdout",
     "output_type": "stream",
     "text": [
      "pygame 1.9.4\n",
      "Hello from the pygame community. https://www.pygame.org/contribute.html\n"
     ]
    }
   ],
   "source": [
    "import pygame as pg\n",
    "import csv\n",
    "import itertools\n",
    "import operator\n",
    "import os"
   ]
  },
  {
   "cell_type": "code",
   "execution_count": 2,
   "metadata": {},
   "outputs": [],
   "source": [
    "# Set the font properties\n",
    "pg.font.init()\n",
    "KOREAN_FONT_SIZE = 30\n",
    "KOREAN_FONT = pg.font.SysFont('notosansmonocjkkr', KOREAN_FONT_SIZE)\n",
    "# KOREAN_FONT = pg.font.SysFont('notoserifcjkkr', KOREAN_FONT_SIZE)\n",
    "\n",
    "ENGLISH_FONT_SIZE = 20\n",
    "ENGLISH_FONT = pg.font.SysFont('arial', ENGLISH_FONT_SIZE)\n",
    "\n",
    "NUMBERS_FONT_SIZE = 16\n",
    "NUMBERS_FONT = pg.font.SysFont('arial', NUMBERS_FONT_SIZE)"
   ]
  },
  {
   "cell_type": "code",
   "execution_count": 3,
   "metadata": {},
   "outputs": [],
   "source": [
    "# # Font Testing\n",
    "# # Note: Only 'notosans...' fonts support Korean!!!\n",
    "# for font in pg.font.get_fonts():\n",
    "#     try:\n",
    "#         WINDOW = pg.display.set_mode( (PAGE_WIDTH, PAGE_HEIGHT) )\n",
    "#         WINDOW.fill(WHITE)\n",
    "\n",
    "#         test_font = pg.font.SysFont(font, 30)\n",
    "#         korean_text = test_font.render(\"이상해씨\", False, BLACK)\n",
    "#         WINDOW.blit(korean_text, (0, 0))\n",
    "\n",
    "#         output_file = \"{}.png\".format(font)\n",
    "#         output_path = os.path.join(\"font_tests\", output_file)\n",
    "#         pg.image.save(WINDOW, output_path)\n",
    "#     except:\n",
    "#         print(font, \"failed!! :(\")"
   ]
  },
  {
   "cell_type": "code",
   "execution_count": 4,
   "metadata": {},
   "outputs": [],
   "source": [
    "# Set the page properties\n",
    "DPI = 120\n",
    "\n",
    "HEIGHT = 11  # inches\n",
    "WIDTH = 8.5  # inches\n",
    "PAGE_HEIGHT = int(DPI * HEIGHT)\n",
    "PAGE_WIDTH = int(DPI * WIDTH)\n",
    "PAGE_MARGIN = 30\n",
    "\n",
    "POKEMON_SIZE = 120\n",
    "NUM_WIDE = 6\n",
    "NUM_HIGH = 6\n",
    "\n",
    "RADIUS = POKEMON_SIZE // 2"
   ]
  },
  {
   "cell_type": "code",
   "execution_count": 5,
   "metadata": {},
   "outputs": [],
   "source": [
    "# Set the color properties\n",
    "BLACK = (0, 0, 0)\n",
    "WHITE = (255, 255, 255)\n",
    "GREY = (120, 120, 120)"
   ]
  },
  {
   "cell_type": "code",
   "execution_count": 6,
   "metadata": {},
   "outputs": [],
   "source": [
    "# Read in the names of the Pokemon (found separately)\n",
    "with open('pokemon_names.csv') as FILE:\n",
    "    csv_reader = csv.reader(FILE, delimiter=',')\n",
    "    names = [row for row in csv_reader][1:]\n",
    "\n",
    "names = {idx: (kor, eng) for (idx, kor, eng) in names}"
   ]
  },
  {
   "cell_type": "code",
   "execution_count": 7,
   "metadata": {},
   "outputs": [
    {
     "data": {
      "text/plain": [
       "[('695', '일레도리자드', 'Heliolisk')]"
      ]
     },
     "execution_count": 7,
     "metadata": {},
     "output_type": "execute_result"
    }
   ],
   "source": [
    "[(i, k, e) for i, (k, e) in names.items() if len(k) == 6]"
   ]
  },
  {
   "cell_type": "code",
   "execution_count": 8,
   "metadata": {},
   "outputs": [],
   "source": [
    "EXCEPTION_POKEMON = [\"384\", \"581\", \"699\", \"716\", \"718\"]\n",
    "\n",
    "# Draw the Pokemon image and the words onto a window\n",
    "def bubble(pokemon_id, x, y, win):\n",
    "    full_id = \"{:03}\".format(pokemon_id)\n",
    "    \n",
    "#    # Draw the circle's frame.\n",
    "#     circle_x = x + RADIUS\n",
    "#     circle_y = y + RADIUS\n",
    "#     pg.draw.circle(win, GREY, (circle_x, circle_y), RADIUS, 3)\n",
    "    \n",
    "    # Retrieve and place the image of the Pokemon.\n",
    "    image_path = \"images/{}.png\".format(full_id)\n",
    "    image = pg.image.load(image_path).convert_alpha()\n",
    "    win.blit(image, (x, y))\n",
    "    \n",
    "    # Retrieve and draw the Pokemon names under the Pokemon\n",
    "    korean_name, english_name = names.get(full_id)\n",
    "    \n",
    "    names_x = x + RADIUS    \n",
    "    \n",
    "    numbers_y = y + POKEMON_SIZE + 7\n",
    "    numbers_text = NUMBERS_FONT.render(full_id, False, BLACK)\n",
    "    \n",
    "    if full_id == \"384\":  # Rayquaza\n",
    "        win.blit(numbers_text, (x + 20, y + 20))\n",
    "    elif full_id == \"581\":  # Swanna\n",
    "        win.blit(numbers_text, (x + 38, y + 20))\n",
    "    elif full_id == \"699\":  # Aurorus\n",
    "        win.blit(numbers_text, (x + 10, y + 60))\n",
    "    elif full_id == \"716\":  # Xerneas\n",
    "        win.blit(numbers_text, (x + 10, y + 60))\n",
    "    elif full_id == \"718\":  # Zygarde\n",
    "        win.blit(numbers_text, (x - 3, y + 100))\n",
    "    else:\n",
    "        numbers_rect = numbers_text.get_rect(center=(names_x, numbers_y))\n",
    "        win.blit(numbers_text, numbers_rect)\n",
    "    \n",
    "    korean_names_y = y + POKEMON_SIZE + (KOREAN_FONT_SIZE // 1)\n",
    "    korean_text = KOREAN_FONT.render(korean_name, False, BLACK)\n",
    "    korean_rect = korean_text.get_rect(center=(names_x, korean_names_y))\n",
    "    win.blit(korean_text, korean_rect)\n",
    "    \n",
    "    english_names_y = y + POKEMON_SIZE + KOREAN_FONT_SIZE + (ENGLISH_FONT_SIZE // 0.6)\n",
    "    english_text = ENGLISH_FONT.render(english_name, False, BLACK)\n",
    "    english_rect = english_text.get_rect(center=(names_x, english_names_y))\n",
    "    win.blit(english_text, english_rect)\n",
    "    \n",
    "#     print(full_id, korean_name, english_name)"
   ]
  },
  {
   "cell_type": "code",
   "execution_count": 9,
   "metadata": {},
   "outputs": [],
   "source": [
    "# Create the final pages\n",
    "NUM_PER_PAGE = NUM_WIDE * NUM_HIGH\n",
    "TOTAL_PAGES = len(names) // NUM_PER_PAGE\n",
    "\n",
    "for page_num in range(TOTAL_PAGES):\n",
    "\n",
    "    # Prepare the raw window.\n",
    "    WINDOW = pg.display.set_mode( (PAGE_WIDTH, PAGE_HEIGHT) )\n",
    "    WINDOW.fill(WHITE)\n",
    "    \n",
    "    # Prepare the margins.\n",
    "    # (Note: add slight whitespace on the side with the holes.)\n",
    "    if page_num % 2 == 0: # This is a right page.\n",
    "        LEFT_MARGIN = PAGE_MARGIN * 2\n",
    "        RIGHT_MARGIN = PAGE_WIDTH - PAGE_MARGIN\n",
    "    \n",
    "    else: # This is a left page.\n",
    "        LEFT_MARGIN = PAGE_MARGIN\n",
    "        RIGHT_MARGIN = PAGE_WIDTH - (PAGE_MARGIN * 2)\n",
    "    \n",
    "    # Prepare the X and Y indices to place the Pokemon.\n",
    "    WIDTH_INDEXES = list(range(LEFT_MARGIN,\n",
    "                           RIGHT_MARGIN,\n",
    "                           (PAGE_WIDTH - (2 * PAGE_MARGIN)) // NUM_WIDE\n",
    "                    ))\n",
    "    HEIGHT_INDEXES = list(range(PAGE_MARGIN,\n",
    "                            PAGE_HEIGHT - PAGE_MARGIN,\n",
    "                            (PAGE_HEIGHT - (2 * PAGE_MARGIN)) // NUM_HIGH\n",
    "                    ))\n",
    "\n",
    "    # Combine and reorder the indexes for proper structuring\n",
    "    INDEX_TUPLES = list(itertools.product(WIDTH_INDEXES, HEIGHT_INDEXES))\n",
    "    INDEX_TUPLES = sorted(INDEX_TUPLES, key=operator.itemgetter(1))\n",
    "\n",
    "    # Iterate through the Pokemon and display them on the window.\n",
    "    for i, tup in enumerate(INDEX_TUPLES):\n",
    "        pokemon_idx = (page_num * NUM_PER_PAGE) + i + 1\n",
    "        x, y = tup\n",
    "\n",
    "        bubble(pokemon_idx, x, y, WINDOW)\n",
    "        \n",
    "    # Save the window.\n",
    "    output_file = \"page_{}.png\".format(page_num)\n",
    "    output_path = os.path.join(\"final_images\", output_file)\n",
    "    pg.image.save(WINDOW, output_path)"
   ]
  }
 ],
 "metadata": {
  "kernelspec": {
   "display_name": "Python 3",
   "language": "python",
   "name": "python3"
  },
  "language_info": {
   "codemirror_mode": {
    "name": "ipython",
    "version": 3
   },
   "file_extension": ".py",
   "mimetype": "text/x-python",
   "name": "python",
   "nbconvert_exporter": "python",
   "pygments_lexer": "ipython3",
   "version": "3.6.7"
  }
 },
 "nbformat": 4,
 "nbformat_minor": 2
}
